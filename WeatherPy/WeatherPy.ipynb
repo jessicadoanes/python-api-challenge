{
 "cells": [
  {
   "cell_type": "markdown",
   "metadata": {},
   "source": [
    "# WeatherPy\n",
    "----\n",
    "\n",
    "#### Note\n",
    "* Instructions have been included for each segment. You do not have to follow them exactly, but they are included to help you think through the steps."
   ]
  },
  {
   "cell_type": "code",
   "execution_count": null,
   "metadata": {},
   "outputs": [],
   "source": [
    "!pip install citipy"
   ]
  },
  {
   "cell_type": "code",
   "execution_count": 1,
   "metadata": {
    "scrolled": true
   },
   "outputs": [],
   "source": [
    "# Dependencies and Setup\n",
    "import matplotlib.pyplot as plt\n",
    "import pandas as pd\n",
    "import numpy as np\n",
    "import requests\n",
    "import time\n",
    "from scipy.stats import linregress\n",
    "\n",
    "# Import API key\n",
    "from api_keys import weather_api_key\n",
    "\n",
    "# Incorporated citipy to determine city based on latitude and longitude\n",
    "from citipy import citipy\n",
    "\n",
    "# Output File (CSV)\n",
    "output_data_file = \"output_data/cities.csv\"\n",
    "\n",
    "# Range of latitudes and longitudes\n",
    "lat_range = (-90, 90)\n",
    "lng_range = (-180, 180)"
   ]
  },
  {
   "cell_type": "markdown",
   "metadata": {},
   "source": [
    "## Generate Cities List"
   ]
  },
  {
   "cell_type": "code",
   "execution_count": 2,
   "metadata": {},
   "outputs": [
    {
     "data": {
      "text/plain": [
       "608"
      ]
     },
     "execution_count": 2,
     "metadata": {},
     "output_type": "execute_result"
    }
   ],
   "source": [
    "# List for holding lat_lngs and cities\n",
    "lat_lngs = []\n",
    "cities = []\n",
    "\n",
    "# Create a set of random lat and lng combinations\n",
    "lats = np.random.uniform(lat_range[0], lat_range[1], size=1500)\n",
    "lngs = np.random.uniform(lng_range[0], lng_range[1], size=1500)\n",
    "lat_lngs = zip(lats, lngs)\n",
    "\n",
    "# Identify nearest city for each lat, lng combination\n",
    "for lat_lng in lat_lngs:\n",
    "    city = citipy.nearest_city(lat_lng[0], lat_lng[1]).city_name\n",
    "    \n",
    "    # If the city is unique, then add it to a our cities list\n",
    "    if city not in cities:\n",
    "        cities.append(city)\n",
    "\n",
    "# Print the city count to confirm sufficient count\n",
    "len(cities)"
   ]
  },
  {
   "cell_type": "code",
   "execution_count": 3,
   "metadata": {},
   "outputs": [],
   "source": [
    "# Save config information\n",
    "units = \"Imperial\"\n",
    "url = \"http://api.openweathermap.org/data/2.5/weather?\" + '&APPID=' + weather_api_key + '&units' + units + \"&q=\"\n"
   ]
  },
  {
   "cell_type": "markdown",
   "metadata": {},
   "source": [
    "### Perform API Calls\n",
    "* Perform a weather check on each city using a series of successive API calls.\n",
    "* Include a print log of each city as it'sbeing processed (with the city number and city name).\n"
   ]
  },
  {
   "cell_type": "code",
   "execution_count": 5,
   "metadata": {},
   "outputs": [],
   "source": [
    "#Create lists for data from csv \n",
    "#change to dict and append to list, so each city will be a list\n",
    "city_id = []\n",
    "name = []\n",
    "lat = []\n",
    "lon = []\n",
    "temp = []\n",
    "wind = []\n",
    "humidity = []\n",
    "clouds = []\n",
    "speed = []\n",
    "country = []\n",
    "cities_data = []"
   ]
  },
  {
   "cell_type": "code",
   "execution_count": 11,
   "metadata": {},
   "outputs": [
    {
     "data": {
      "text/plain": [
       "{'coord': {'lon': -61.6442, 'lat': -3.7728},\n",
       " 'weather': [{'id': 500,\n",
       "   'main': 'Rain',\n",
       "   'description': 'light rain',\n",
       "   'icon': '10n'}],\n",
       " 'base': 'stations',\n",
       " 'main': {'temp': 296.3,\n",
       "  'feels_like': 297.2,\n",
       "  'temp_min': 296.3,\n",
       "  'temp_max': 296.3,\n",
       "  'pressure': 1011,\n",
       "  'humidity': 97,\n",
       "  'sea_level': 1011,\n",
       "  'grnd_level': 1008},\n",
       " 'visibility': 10000,\n",
       " 'wind': {'speed': 0.7, 'deg': 322, 'gust': 0.7},\n",
       " 'rain': {'1h': 0.56},\n",
       " 'clouds': {'all': 99},\n",
       " 'dt': 1620083955,\n",
       " 'sys': {'country': 'BR', 'sunrise': 1620036251, 'sunset': 1620079353},\n",
       " 'timezone': -14400,\n",
       " 'id': 3665315,\n",
       " 'name': 'Anori',\n",
       " 'cod': 200}"
      ]
     },
     "execution_count": 11,
     "metadata": {},
     "output_type": "execute_result"
    }
   ],
   "source": [
    "city_data"
   ]
  },
  {
   "cell_type": "code",
   "execution_count": 12,
   "metadata": {
    "scrolled": true
   },
   "outputs": [
    {
     "name": "stdout",
     "output_type": "stream",
     "text": [
      "rikitea\n",
      "punta arenas\n",
      "hilo\n",
      "avarua\n",
      "mataura\n",
      "ponta do sol\n",
      "vaini\n",
      "ushuaia\n",
      "manokwari\n",
      "tual\n",
      "ancud\n",
      "aklavik\n",
      "progreso\n",
      "te anau\n",
      "jerusalem\n",
      "cape town\n",
      "albany\n",
      "atuona\n",
      "City not Found\n",
      "alofi\n",
      "City not Found\n",
      "qaanaaq\n",
      "cherskiy\n",
      "bluff\n",
      "caravelas\n",
      "City not Found\n",
      "City not Found\n",
      "luderitz\n",
      "pisco\n",
      "busselton\n",
      "hobart\n",
      "santa fe\n",
      "muros\n",
      "hermanus\n",
      "pinega\n",
      "axim\n",
      "georgetown\n",
      "ukiah\n",
      "erenhot\n",
      "beaufort\n",
      "City not Found\n",
      "dobson\n",
      "san patricio\n",
      "victoria\n",
      "maragogi\n",
      "port alfred\n",
      "margosatubig\n",
      "los llanos de aridane\n",
      "City not Found\n",
      "saint-pierre\n",
      "east london\n",
      "bom jesus\n",
      "lasa\n",
      "broome\n",
      "pocatello\n",
      "leh\n",
      "san-pedro\n",
      "naze\n",
      "butaritari\n",
      "City not Found\n",
      "City not Found\n",
      "sao raimundo nonato\n",
      "kavieng\n",
      "camopi\n",
      "mar del plata\n",
      "nikolskoye\n",
      "polson\n",
      "City not Found\n",
      "quelimane\n",
      "belmonte\n",
      "beringovskiy\n",
      "omsukchan\n",
      "tasiilaq\n",
      "severo-kurilsk\n",
      "whitehorse\n",
      "sao felix do xingu\n",
      "faya\n",
      "kendari\n",
      "City not Found\n",
      "tarauaca\n",
      "dudinka\n",
      "karanganom\n",
      "pueblo\n",
      "kamenka\n",
      "puerto ayora\n",
      "creel\n",
      "vardo\n",
      "saint-leu\n",
      "tarko-sale\n",
      "bathsheba\n",
      "dali\n",
      "xiongzhou\n",
      "saint george\n",
      "grindavik\n",
      "komsomolskiy\n",
      "klaksvik\n",
      "bilibino\n",
      "khatanga\n",
      "alugan\n",
      "castro\n",
      "City not Found\n",
      "santona\n",
      "pevek\n",
      "City not Found\n",
      "kapaa\n",
      "sunbury\n",
      "annau\n",
      "iqaluit\n",
      "bubaque\n",
      "kutum\n",
      "arraial do cabo\n",
      "washougal\n",
      "longyearbyen\n",
      "tocopilla\n",
      "saint-philippe\n",
      "itoman\n",
      "wakkanai\n",
      "nishihara\n",
      "nome\n",
      "gomel\n",
      "half moon bay\n",
      "yellowknife\n",
      "marin\n",
      "san cristobal\n",
      "constitucion\n",
      "esperance\n",
      "vila franca do campo\n",
      "talnakh\n",
      "port-gentil\n",
      "bac lieu\n",
      "codrington\n",
      "City not Found\n",
      "City not Found\n",
      "dakoro\n",
      "touros\n",
      "chuy\n",
      "yankton\n",
      "nizhniy odes\n",
      "waterloo\n",
      "City not Found\n",
      "City not Found\n",
      "sao gabriel\n",
      "george town\n",
      "yanam\n",
      "lang son\n",
      "eureka\n",
      "City not Found\n",
      "suntar\n",
      "hithadhoo\n",
      "banjar\n",
      "husavik\n",
      "petrolina de goias\n",
      "marsh harbour\n",
      "leningradskiy\n",
      "kabinda\n",
      "bredasdorp\n",
      "tari\n",
      "deputatskiy\n",
      "quatre cocos\n",
      "verkhoyansk\n",
      "dikson\n",
      "teruel\n",
      "rudbar\n",
      "portland\n",
      "kaitangata\n",
      "City not Found\n",
      "katobu\n",
      "zacamulpa\n",
      "City not Found\n",
      "kahului\n",
      "lebu\n",
      "jamestown\n",
      "new norfolk\n",
      "monte alegre\n",
      "City not Found\n",
      "nantucket\n",
      "kodiak\n",
      "sidi ali\n",
      "kuchurhan\n",
      "havelock\n",
      "tromso\n",
      "alice springs\n",
      "carnarvon\n",
      "safaga\n",
      "City not Found\n",
      "meulaboh\n",
      "springville\n",
      "bagdarin\n",
      "ilulissat\n",
      "srednekolymsk\n",
      "City not Found\n",
      "sao paulo de olivenca\n",
      "xam nua\n",
      "City not Found\n",
      "coquimbo\n",
      "City not Found\n",
      "bambous virieux\n",
      "namtsy\n",
      "aberdeen\n",
      "mareeba\n",
      "biak\n",
      "sergeyevka\n",
      "ixtapa\n",
      "barrow\n",
      "City not Found\n",
      "puerto madryn\n",
      "walvis bay\n",
      "hit\n",
      "mehamn\n",
      "beysehir\n",
      "azacualpa\n",
      "tayoltita\n",
      "sept-iles\n",
      "tautira\n",
      "kruisfontein\n",
      "guerrero negro\n",
      "ribeira grande\n",
      "salalah\n",
      "gbarnga\n",
      "katangli\n",
      "carmen\n",
      "barra do garcas\n",
      "City not Found\n",
      "abu samrah\n",
      "mount isa\n",
      "khovu-aksy\n",
      "bonthe\n",
      "vestmanna\n",
      "yangambi\n",
      "saint-francois\n",
      "hualmay\n",
      "sabang\n",
      "saravan\n",
      "upernavik\n",
      "vostok\n",
      "kununurra\n",
      "ust-maya\n",
      "yining\n",
      "saint anthony\n",
      "chapais\n",
      "kananga\n",
      "wexford\n",
      "cabo san lucas\n",
      "chokurdakh\n",
      "zaragoza\n",
      "geraldton\n",
      "fortuna\n",
      "bintulu\n",
      "City not Found\n",
      "kyzyl-suu\n",
      "zhanaozen\n",
      "cidreira\n",
      "swissvale\n",
      "emerald\n",
      "City not Found\n",
      "shatura\n",
      "namibe\n",
      "barcelos\n",
      "tuatapere\n",
      "City not Found\n",
      "jibuti\n",
      "anadyr\n",
      "katsuura\n",
      "airai\n",
      "hamilton\n",
      "siguiri\n",
      "misratah\n",
      "serebryansk\n",
      "eyl\n",
      "kangaatsiaq\n",
      "port elizabeth\n",
      "yumen\n",
      "madison\n",
      "harper\n",
      "kemi\n",
      "asau\n",
      "mitu\n",
      "la ronge\n",
      "parkes\n",
      "hervey bay\n",
      "kushima\n",
      "thompson\n",
      "seoul\n",
      "golpayegan\n",
      "red bluff\n",
      "witu\n",
      "clyde river\n",
      "goderich\n",
      "tuktoyaktuk\n",
      "zehdenick\n",
      "ostrovnoy\n",
      "simpang\n",
      "anna\n",
      "magistralnyy\n",
      "pekalongan\n",
      "wenling\n",
      "mudgee\n",
      "comodoro rivadavia\n",
      "razdolnoye\n",
      "norman wells\n",
      "svecha\n",
      "mahebourg\n",
      "gibraleon\n",
      "ipameri\n",
      "dunedin\n",
      "xuchang\n",
      "raudeberg\n",
      "grand gaube\n",
      "mandalgovi\n",
      "sitka\n",
      "moron\n",
      "ritchie\n",
      "isangel\n",
      "beyneu\n",
      "broken hill\n",
      "karratha\n",
      "pacific grove\n",
      "lagoa\n",
      "rio gallegos\n",
      "olinda\n",
      "laguna\n",
      "sola\n",
      "cap malheureux\n",
      "henties bay\n",
      "lingao\n",
      "kastamonu\n",
      "robinson\n",
      "port hardy\n",
      "tiksi\n",
      "caldwell\n",
      "hofn\n",
      "flinders\n",
      "kavaratti\n",
      "carutapera\n",
      "saskylakh\n",
      "komatsu\n",
      "changli\n",
      "sinnamary\n",
      "mogadishu\n",
      "tokur\n",
      "nanortalik\n",
      "lensk\n",
      "highland springs\n",
      "manakara\n",
      "City not Found\n",
      "praia da vitoria\n",
      "chara\n",
      "mantua\n",
      "yulara\n",
      "narsaq\n",
      "nhulunbuy\n",
      "sapernoye\n",
      "warman\n",
      "ahipara\n",
      "toora-khem\n",
      "baldone\n",
      "chaoyang\n",
      "tura\n",
      "sahuaripa\n",
      "saryg-sep\n",
      "sungaipenuh\n",
      "uyovu\n",
      "xuddur\n",
      "high level\n",
      "mbandaka\n",
      "sabla\n",
      "nkhotakota\n",
      "alexandria\n",
      "bealanana\n",
      "tomatlan\n",
      "sambava\n",
      "lucea\n",
      "coihaique\n",
      "gorontalo\n",
      "City not Found\n",
      "khromtau\n",
      "bengkulu\n",
      "seymchan\n",
      "vilyuysk\n",
      "port blair\n",
      "ketchikan\n",
      "miranda\n",
      "gizo\n",
      "berlevag\n",
      "hirara\n",
      "salamiyah\n",
      "mitsamiouli\n",
      "provideniya\n",
      "aksarayskiy\n",
      "slave lake\n",
      "fayaoue\n",
      "faanui\n",
      "bethel\n",
      "vestmannaeyjar\n",
      "saldanha\n",
      "inhambane\n",
      "souillac\n",
      "mezen\n",
      "peleduy\n",
      "necochea\n",
      "vanimo\n",
      "beira\n",
      "noumea\n",
      "kalmar\n",
      "nouakchott\n",
      "talcahuano\n",
      "palu\n",
      "hambantota\n",
      "coolum beach\n",
      "prescott\n",
      "puertollano\n",
      "lompoc\n",
      "visby\n",
      "andenes\n",
      "adana\n",
      "City not Found\n",
      "college\n",
      "juneau\n",
      "brunswick\n",
      "mount pleasant\n",
      "saint-joseph\n",
      "artyom\n",
      "san carlos de bariloche\n",
      "paamiut\n",
      "xuzhou\n",
      "City not Found\n",
      "gamboula\n",
      "City not Found\n",
      "opuwo\n",
      "cayenne\n",
      "lubben\n",
      "japura\n",
      "port lincoln\n",
      "nemuro\n",
      "mayo\n",
      "mbanza-ngungu\n",
      "piacabucu\n",
      "dobrinka\n",
      "ust-omchug\n",
      "port hedland\n",
      "riyadh\n",
      "mackenzie\n",
      "teguldet\n",
      "City not Found\n",
      "vila velha\n",
      "port-cartier\n",
      "south river\n",
      "gayny\n",
      "magadan\n",
      "port arthur\n",
      "plettenberg bay\n",
      "City not Found\n",
      "maceio\n",
      "fairbanks\n",
      "avera\n",
      "nyurba\n",
      "fort-shevchenko\n",
      "carlagan\n",
      "esmeraldas\n",
      "mezhdurechenskiy\n",
      "san quintin\n",
      "avallon\n",
      "antofagasta\n",
      "savannah bight\n",
      "City not Found\n",
      "palm beach gardens\n",
      "lemoore\n",
      "wiarton\n",
      "namatanai\n",
      "rantepao\n",
      "makokou\n",
      "margherita\n",
      "bojnurd\n",
      "vanderhoof\n",
      "baoshan\n",
      "levelland\n",
      "sabha\n",
      "City not Found\n",
      "lata\n",
      "winnemucca\n",
      "caramay\n",
      "richards bay\n",
      "abeche\n",
      "shenjiamen\n",
      "tsiroanomandidy\n",
      "alhaurin el grande\n",
      "nanakuli\n",
      "torres\n",
      "dickinson\n",
      "union\n",
      "bayanday\n",
      "bolshaya sosnova\n",
      "hasaki\n",
      "comitan\n",
      "lieksa\n",
      "umm lajj\n",
      "aranos\n",
      "batagay-alyta\n",
      "City not Found\n",
      "havre-saint-pierre\n",
      "City not Found\n",
      "issia\n",
      "colares\n",
      "City not Found\n",
      "guaira\n",
      "belaya gora\n",
      "micheweni\n",
      "kaseda\n",
      "City not Found\n",
      "trujillo\n",
      "lerwick\n",
      "taoudenni\n",
      "muroto\n",
      "felanitx\n",
      "vagur\n",
      "jacmel\n",
      "russell\n",
      "rosetown\n",
      "City not Found\n",
      "nanfeng\n",
      "coahuayana\n",
      "junin\n",
      "townsville\n",
      "zhaotong\n",
      "tessalit\n",
      "marienburg\n",
      "alghero\n",
      "kokkola\n",
      "yaan\n",
      "nata\n",
      "sisimiut\n",
      "nouadhibou\n",
      "krasnoshchekovo\n",
      "dabakala\n",
      "mahonda\n",
      "zhob\n",
      "dzaoudzi\n",
      "casablanca\n",
      "nuuk\n",
      "City not Found\n",
      "santa cruz\n",
      "sesheke\n",
      "bolobo\n",
      "batagay\n",
      "huanta\n",
      "kloulklubed\n",
      "kalmunai\n",
      "chengde\n",
      "City not Found\n",
      "san ramon\n",
      "City not Found\n",
      "alvaraes\n",
      "kargil\n",
      "khuzhir\n",
      "santo antonio do ica\n",
      "bondoukou\n",
      "zhezkazgan\n",
      "kaduqli\n",
      "ambon\n",
      "cusuna\n",
      "port augusta\n",
      "san jeronimo\n",
      "xingcheng\n",
      "gazli\n",
      "hastings\n",
      "City not Found\n",
      "saint-paul\n",
      "cartagena del chaira\n",
      "falam\n",
      "sao joao da barra\n",
      "okha\n",
      "dingle\n",
      "channel-port aux basques\n",
      "City not Found\n",
      "sao filipe\n",
      "xian\n",
      "City not Found\n",
      "samarai\n",
      "cairns\n",
      "jalu\n",
      "salinopolis\n",
      "mugur-aksy\n",
      "City not Found\n",
      "almaznyy\n",
      "damietta\n",
      "isla mujeres\n",
      "atar\n",
      "City not Found\n",
      "elverum\n",
      "smithers\n",
      "boysun\n",
      "City not Found\n",
      "coihueco\n",
      "roald\n",
      "itarema\n",
      "tilichiki\n",
      "morong\n",
      "humaita\n",
      "isla vista\n",
      "City not Found\n",
      "mwense\n",
      "acapulco\n",
      "fuerte olimpo\n",
      "kostomuksha\n",
      "arlit\n",
      "muisne\n",
      "zharkent\n",
      "anori\n",
      "-------------------------------------------\n",
      "It's done. Data is here.\n",
      "-------------------------------------------\n"
     ]
    }
   ],
   "source": [
    "# Creating For Loop to perform weather check using API call\n",
    "for city in cities: #Change only10 back to cities to run for all\n",
    "    \n",
    "    \n",
    "    #Try except statements for append\n",
    "    try:\n",
    "        city_data = requests.get(url + city).json()\n",
    "        name = city_data['name']\n",
    "        lat = city_data['coord']['lat']\n",
    "        lon = city_data['coord']['lon']\n",
    "        temp = city_data['main']['temp']\n",
    "        humidity = city_data['main']['humidity']\n",
    "        speed = city_data['wind']['speed']\n",
    "        clouds = city_data['clouds']['all']\n",
    "        \n",
    "        cities_data.append({\n",
    "            \"Name\" : name,\n",
    "            \"Lat\" : lat,\n",
    "            \"Lon\" : lon,\n",
    "            \"Temp\" : temp,\n",
    "            \"Humidity\" : humidity,\n",
    "            \"WindSpeed\" : speed,\n",
    "            \"Clouds\" : clouds\n",
    "        })\n",
    "        print(city)\n",
    "    except:\n",
    "        print(\"City not Found\")\n",
    "\n",
    "    \n",
    "print(\"-------------------------------------------\")\n",
    "print(\"It's done. Data is here.\")\n",
    "print(\"-------------------------------------------\")\n",
    "        \n"
   ]
  },
  {
   "cell_type": "code",
   "execution_count": null,
   "metadata": {},
   "outputs": [],
   "source": [
    "#DO NOT RUN! \n",
    "#Next 7 cells checking length of each list "
   ]
  },
  {
   "cell_type": "code",
   "execution_count": 13,
   "metadata": {},
   "outputs": [
    {
     "data": {
      "text/plain": [
       "608"
      ]
     },
     "execution_count": 13,
     "metadata": {},
     "output_type": "execute_result"
    }
   ],
   "source": [
    "#len(cities)"
   ]
  },
  {
   "cell_type": "code",
   "execution_count": 18,
   "metadata": {},
   "outputs": [],
   "source": [
    "#cities_data = cities_data[555:]\n",
    "#Start with entry 555 and return them to the end\n",
    "#chopped of the extra 555\n",
    "#making sure it worked\n",
    "\n",
    "#colon in front give me first 555,colon in back last 555"
   ]
  },
  {
   "cell_type": "code",
   "execution_count": 19,
   "metadata": {
    "scrolled": true
   },
   "outputs": [
    {
     "data": {
      "text/plain": [
       "555"
      ]
     },
     "execution_count": 19,
     "metadata": {},
     "output_type": "execute_result"
    }
   ],
   "source": [
    "len(cities_data)"
   ]
  },
  {
   "cell_type": "code",
   "execution_count": 20,
   "metadata": {},
   "outputs": [
    {
     "data": {
      "text/plain": [
       "{'Name': 'Rikitea',\n",
       " 'Lat': -23.1203,\n",
       " 'Lon': -134.9692,\n",
       " 'Temp': 299.28,\n",
       " 'Humidity': 83,\n",
       " 'WindSpeed': 7.55,\n",
       " 'Clouds': 79}"
      ]
     },
     "execution_count": 20,
     "metadata": {},
     "output_type": "execute_result"
    }
   ],
   "source": [
    "cities_data[0]"
   ]
  },
  {
   "cell_type": "markdown",
   "metadata": {},
   "source": [
    "### Convert Raw Data to DataFrame\n",
    "* Export the city data into a .csv.\n",
    "* Display the DataFrame"
   ]
  },
  {
   "cell_type": "code",
   "execution_count": 21,
   "metadata": {},
   "outputs": [],
   "source": [
    "#Created dictionary\n",
    "city_weather = pd.DataFrame(cities_data)"
   ]
  },
  {
   "cell_type": "code",
   "execution_count": 22,
   "metadata": {
    "scrolled": true
   },
   "outputs": [
    {
     "data": {
      "text/html": [
       "<div>\n",
       "<style scoped>\n",
       "    .dataframe tbody tr th:only-of-type {\n",
       "        vertical-align: middle;\n",
       "    }\n",
       "\n",
       "    .dataframe tbody tr th {\n",
       "        vertical-align: top;\n",
       "    }\n",
       "\n",
       "    .dataframe thead th {\n",
       "        text-align: right;\n",
       "    }\n",
       "</style>\n",
       "<table border=\"1\" class=\"dataframe\">\n",
       "  <thead>\n",
       "    <tr style=\"text-align: right;\">\n",
       "      <th></th>\n",
       "      <th>Name</th>\n",
       "      <th>Lat</th>\n",
       "      <th>Lon</th>\n",
       "      <th>Temp</th>\n",
       "      <th>Humidity</th>\n",
       "      <th>WindSpeed</th>\n",
       "      <th>Clouds</th>\n",
       "    </tr>\n",
       "  </thead>\n",
       "  <tbody>\n",
       "    <tr>\n",
       "      <th>0</th>\n",
       "      <td>Rikitea</td>\n",
       "      <td>-23.1203</td>\n",
       "      <td>-134.9692</td>\n",
       "      <td>299.28</td>\n",
       "      <td>83</td>\n",
       "      <td>7.55</td>\n",
       "      <td>79</td>\n",
       "    </tr>\n",
       "    <tr>\n",
       "      <th>1</th>\n",
       "      <td>Punta Arenas</td>\n",
       "      <td>-53.1500</td>\n",
       "      <td>-70.9167</td>\n",
       "      <td>277.09</td>\n",
       "      <td>70</td>\n",
       "      <td>6.17</td>\n",
       "      <td>75</td>\n",
       "    </tr>\n",
       "    <tr>\n",
       "      <th>2</th>\n",
       "      <td>Hilo</td>\n",
       "      <td>19.7297</td>\n",
       "      <td>-155.0900</td>\n",
       "      <td>297.53</td>\n",
       "      <td>57</td>\n",
       "      <td>4.63</td>\n",
       "      <td>75</td>\n",
       "    </tr>\n",
       "    <tr>\n",
       "      <th>3</th>\n",
       "      <td>Avarua</td>\n",
       "      <td>-21.2078</td>\n",
       "      <td>-159.7750</td>\n",
       "      <td>300.15</td>\n",
       "      <td>65</td>\n",
       "      <td>3.09</td>\n",
       "      <td>75</td>\n",
       "    </tr>\n",
       "    <tr>\n",
       "      <th>4</th>\n",
       "      <td>Mataura</td>\n",
       "      <td>-46.1927</td>\n",
       "      <td>168.8643</td>\n",
       "      <td>287.59</td>\n",
       "      <td>81</td>\n",
       "      <td>3.58</td>\n",
       "      <td>100</td>\n",
       "    </tr>\n",
       "  </tbody>\n",
       "</table>\n",
       "</div>"
      ],
      "text/plain": [
       "           Name      Lat       Lon    Temp  Humidity  WindSpeed  Clouds\n",
       "0       Rikitea -23.1203 -134.9692  299.28        83       7.55      79\n",
       "1  Punta Arenas -53.1500  -70.9167  277.09        70       6.17      75\n",
       "2          Hilo  19.7297 -155.0900  297.53        57       4.63      75\n",
       "3        Avarua -21.2078 -159.7750  300.15        65       3.09      75\n",
       "4       Mataura -46.1927  168.8643  287.59        81       3.58     100"
      ]
     },
     "execution_count": 22,
     "metadata": {},
     "output_type": "execute_result"
    }
   ],
   "source": [
    "#Display dataframe(FINALY!)\n",
    "\n",
    "city_weather.head()"
   ]
  },
  {
   "cell_type": "code",
   "execution_count": 24,
   "metadata": {},
   "outputs": [],
   "source": [
    "#Attempt 1 to print\n",
    "#Printed empty csv\n",
    "\n",
    "city_weather.to_csv('cityweather.csv')"
   ]
  },
  {
   "cell_type": "markdown",
   "metadata": {},
   "source": [
    "## Inspect the data and remove the cities where the humidity > 100%.\n",
    "----\n",
    "Skip this step if there are no cities that have humidity > 100%. "
   ]
  },
  {
   "cell_type": "code",
   "execution_count": 25,
   "metadata": {},
   "outputs": [
    {
     "data": {
      "text/plain": [
       "count    555.000000\n",
       "mean      70.097297\n",
       "std       22.507630\n",
       "min        5.000000\n",
       "25%       58.000000\n",
       "50%       76.000000\n",
       "75%       87.000000\n",
       "max      100.000000\n",
       "Name: Humidity, dtype: float64"
      ]
     },
     "execution_count": 25,
     "metadata": {},
     "output_type": "execute_result"
    }
   ],
   "source": [
    "#Test humidity to identify those with humidity>100%\n",
    "\n",
    "humidity_test = city_weather[\"Humidity\"].describe(include = \"all\")\n",
    "humidity_test"
   ]
  },
  {
   "cell_type": "code",
   "execution_count": 29,
   "metadata": {},
   "outputs": [
    {
     "data": {
      "text/plain": [
       "False    555\n",
       "Name: Humidity, dtype: int64"
      ]
     },
     "execution_count": 29,
     "metadata": {},
     "output_type": "execute_result"
    }
   ],
   "source": [
    "(city_weather[\"Humidity\"]>100).value_counts()"
   ]
  },
  {
   "cell_type": "code",
   "execution_count": 30,
   "metadata": {},
   "outputs": [
    {
     "name": "stdout",
     "output_type": "stream",
     "text": [
      "The maximum humidity value is 100%. There are no values greater than 100% in my data!\n"
     ]
    }
   ],
   "source": [
    "print(\"The maximum humidity value is 100%. There are no values greater than 100% in my data!\")"
   ]
  },
  {
   "cell_type": "code",
   "execution_count": 35,
   "metadata": {},
   "outputs": [],
   "source": [
    "# Get the indices of cities that have humidity over 100%.\n",
    "dirty_humd = city_weather[(city_weather[\"Humidity\"]>100)].index"
   ]
  },
  {
   "cell_type": "code",
   "execution_count": null,
   "metadata": {},
   "outputs": [],
   "source": [
    "# Make a new DataFrame equal to the city data to drop all humidity  outliers by index.\n",
    "# Passing \"inplace=False\" will make a copy of the city_data DataFrame, which we call \"clean_city_data\".\n"
   ]
  },
  {
   "cell_type": "code",
   "execution_count": 36,
   "metadata": {},
   "outputs": [],
   "source": [
    "clean_city_data = city_weather.drop(dirty_humd,inplace=False)"
   ]
  },
  {
   "cell_type": "code",
   "execution_count": 37,
   "metadata": {},
   "outputs": [
    {
     "data": {
      "text/html": [
       "<div>\n",
       "<style scoped>\n",
       "    .dataframe tbody tr th:only-of-type {\n",
       "        vertical-align: middle;\n",
       "    }\n",
       "\n",
       "    .dataframe tbody tr th {\n",
       "        vertical-align: top;\n",
       "    }\n",
       "\n",
       "    .dataframe thead th {\n",
       "        text-align: right;\n",
       "    }\n",
       "</style>\n",
       "<table border=\"1\" class=\"dataframe\">\n",
       "  <thead>\n",
       "    <tr style=\"text-align: right;\">\n",
       "      <th></th>\n",
       "      <th>Name</th>\n",
       "      <th>Lat</th>\n",
       "      <th>Lon</th>\n",
       "      <th>Temp</th>\n",
       "      <th>Humidity</th>\n",
       "      <th>WindSpeed</th>\n",
       "      <th>Clouds</th>\n",
       "    </tr>\n",
       "  </thead>\n",
       "  <tbody>\n",
       "    <tr>\n",
       "      <th>0</th>\n",
       "      <td>Rikitea</td>\n",
       "      <td>-23.1203</td>\n",
       "      <td>-134.9692</td>\n",
       "      <td>299.28</td>\n",
       "      <td>83</td>\n",
       "      <td>7.55</td>\n",
       "      <td>79</td>\n",
       "    </tr>\n",
       "    <tr>\n",
       "      <th>1</th>\n",
       "      <td>Punta Arenas</td>\n",
       "      <td>-53.1500</td>\n",
       "      <td>-70.9167</td>\n",
       "      <td>277.09</td>\n",
       "      <td>70</td>\n",
       "      <td>6.17</td>\n",
       "      <td>75</td>\n",
       "    </tr>\n",
       "    <tr>\n",
       "      <th>2</th>\n",
       "      <td>Hilo</td>\n",
       "      <td>19.7297</td>\n",
       "      <td>-155.0900</td>\n",
       "      <td>297.53</td>\n",
       "      <td>57</td>\n",
       "      <td>4.63</td>\n",
       "      <td>75</td>\n",
       "    </tr>\n",
       "    <tr>\n",
       "      <th>3</th>\n",
       "      <td>Avarua</td>\n",
       "      <td>-21.2078</td>\n",
       "      <td>-159.7750</td>\n",
       "      <td>300.15</td>\n",
       "      <td>65</td>\n",
       "      <td>3.09</td>\n",
       "      <td>75</td>\n",
       "    </tr>\n",
       "    <tr>\n",
       "      <th>4</th>\n",
       "      <td>Mataura</td>\n",
       "      <td>-46.1927</td>\n",
       "      <td>168.8643</td>\n",
       "      <td>287.59</td>\n",
       "      <td>81</td>\n",
       "      <td>3.58</td>\n",
       "      <td>100</td>\n",
       "    </tr>\n",
       "  </tbody>\n",
       "</table>\n",
       "</div>"
      ],
      "text/plain": [
       "           Name      Lat       Lon    Temp  Humidity  WindSpeed  Clouds\n",
       "0       Rikitea -23.1203 -134.9692  299.28        83       7.55      79\n",
       "1  Punta Arenas -53.1500  -70.9167  277.09        70       6.17      75\n",
       "2          Hilo  19.7297 -155.0900  297.53        57       4.63      75\n",
       "3        Avarua -21.2078 -159.7750  300.15        65       3.09      75\n",
       "4       Mataura -46.1927  168.8643  287.59        81       3.58     100"
      ]
     },
     "execution_count": 37,
     "metadata": {},
     "output_type": "execute_result"
    }
   ],
   "source": [
    "clean_city_data.head()"
   ]
  },
  {
   "cell_type": "markdown",
   "metadata": {},
   "source": [
    "## Plotting the Data\n",
    "* Use proper labeling of the plots using plot titles (including date of analysis) and axes labels.\n",
    "* Save the plotted figures as .pngs."
   ]
  },
  {
   "cell_type": "markdown",
   "metadata": {},
   "source": [
    "## Latitude vs. Temperature Plot"
   ]
  },
  {
   "cell_type": "code",
   "execution_count": 40,
   "metadata": {
    "scrolled": true
   },
   "outputs": [
    {
     "data": {
      "image/png": "[encoded data removed]",
      "text/plain": [
       "<Figure size 432x288 with 1 Axes>"
      ]
     },
     "metadata": {
      "needs_background": "light"
     },
     "output_type": "display_data"
    }
   ],
   "source": [
    "plt.scatter(city_weather['Lat'], city_weather['Temp'])\n",
    "plt.title('Latitude vs. Temperature')\n",
    "plt.xlabel('Temperature')\n",
    "plt.grid(True)\n",
    "plt.savefig('Figure_1.png')"
   ]
  },
  {
   "cell_type": "markdown",
   "metadata": {},
   "source": [
    "## Latitude vs. Humidity Plot"
   ]
  },
  {
   "cell_type": "code",
   "execution_count": 41,
   "metadata": {},
   "outputs": [
    {
     "data": {
      "image/png": "[encoded data removed]",
      "text/plain": [
       "<Figure size 432x288 with 1 Axes>"
      ]
     },
     "metadata": {
      "needs_background": "light"
     },
     "output_type": "display_data"
    }
   ],
   "source": [
    "plt.scatter(city_weather['Lat'], city_weather ['Humidity'])\n",
    "plt.title('Latitude vs. Humidity')\n",
    "plt.xlabel('Humidity')\n",
    "plt.grid(True)\n",
    "plt.savefig('Figure2.png')"
   ]
  },
  {
   "cell_type": "markdown",
   "metadata": {},
   "source": [
    "## Latitude vs. Cloudiness Plot"
   ]
  },
  {
   "cell_type": "code",
   "execution_count": 42,
   "metadata": {},
   "outputs": [
    {
     "data": {
      "image/png": "[encoded data removed]",
      "text/plain": [
       "<Figure size 432x288 with 1 Axes>"
      ]
     },
     "metadata": {
      "needs_background": "light"
     },
     "output_type": "display_data"
    }
   ],
   "source": [
    "plt.scatter(city_weather['Lat'], city_weather ['Clouds'])\n",
    "plt.title('Latitude vs. Cloudiness')\n",
    "plt.xlabel('Cloudiness')\n",
    "plt.grid(True)\n",
    "plt.savefig('Figure3.png')"
   ]
  },
  {
   "cell_type": "markdown",
   "metadata": {},
   "source": [
    "## Latitude vs. Wind Speed Plot"
   ]
  },
  {
   "cell_type": "code",
   "execution_count": 43,
   "metadata": {},
   "outputs": [
    {
     "data": {
      "image/png": "[encoded data removed]",
      "text/plain": [
       "<Figure size 432x288 with 1 Axes>"
      ]
     },
     "metadata": {
      "needs_background": "light"
     },
     "output_type": "display_data"
    }
   ],
   "source": [
    "plt.scatter(city_weather['Lat'], city_weather ['WindSpeed'])\n",
    "plt.title('Latitude vs. Wind Speed')\n",
    "plt.xlabel('Wind Speed')\n",
    "plt.grid(True)\n",
    "plt.savefig('Figure4.png')"
   ]
  },
  {
   "cell_type": "code",
   "execution_count": null,
   "metadata": {},
   "outputs": [],
   "source": [
    "#USE MARKDOWN IN DROPDOWN TO ADD TEXT.FOLLOW INSTRUCTIONS FROM MARKDOWN TEMPLATE ON DESKTOP."
   ]
  },
  {
   "cell_type": "markdown",
   "metadata": {},
   "source": [
    "##### Magical. Add words "
   ]
  },
  {
   "cell_type": "markdown",
   "metadata": {},
   "source": [
    "\n",
    "\n",
    "## Linear Regression"
   ]
  },
  {
   "cell_type": "code",
   "execution_count": null,
   "metadata": {},
   "outputs": [],
   "source": [
    " # Add the linear regression equation and line to plot\n",
    "    #example from class activity \n",
    "x_values = northern['Temp']\n",
    "y_values = northern['Lat']\n",
    "(slope, intercept, rvalue, pvalue, stderr) = linregress(x_values, y_values)\n",
    "regress_values = x_values * slope + intercept\n",
    "line_eq = \"y = \" + str(round(slope,2)) + \"x + \" + str(round(intercept,2))\n",
    "plt.scatter(x_values,y_values)\n",
    "plt.plot(x_values,regress_values,\"r-\")\n",
    "plt.annotate(line_eq,(6,10),fontsize=15,color=\"red\")\n",
    "plt.xlabel('Temperature')\n",
    "plt.ylabel('Latitude')\n",
    "plt.show()"
   ]
  },
  {
   "cell_type": "code",
   "execution_count": 47,
   "metadata": {},
   "outputs": [
    {
     "data": {
      "text/html": [
       "<div>\n",
       "<style scoped>\n",
       "    .dataframe tbody tr th:only-of-type {\n",
       "        vertical-align: middle;\n",
       "    }\n",
       "\n",
       "    .dataframe tbody tr th {\n",
       "        vertical-align: top;\n",
       "    }\n",
       "\n",
       "    .dataframe thead th {\n",
       "        text-align: right;\n",
       "    }\n",
       "</style>\n",
       "<table border=\"1\" class=\"dataframe\">\n",
       "  <thead>\n",
       "    <tr style=\"text-align: right;\">\n",
       "      <th></th>\n",
       "      <th>Name</th>\n",
       "      <th>Lat</th>\n",
       "      <th>Lon</th>\n",
       "      <th>Temp</th>\n",
       "      <th>Humidity</th>\n",
       "      <th>WindSpeed</th>\n",
       "      <th>Clouds</th>\n",
       "    </tr>\n",
       "  </thead>\n",
       "  <tbody>\n",
       "    <tr>\n",
       "      <th>0</th>\n",
       "      <td>Rikitea</td>\n",
       "      <td>-23.1203</td>\n",
       "      <td>-134.9692</td>\n",
       "      <td>299.28</td>\n",
       "      <td>83</td>\n",
       "      <td>7.55</td>\n",
       "      <td>79</td>\n",
       "    </tr>\n",
       "    <tr>\n",
       "      <th>1</th>\n",
       "      <td>Punta Arenas</td>\n",
       "      <td>-53.1500</td>\n",
       "      <td>-70.9167</td>\n",
       "      <td>277.09</td>\n",
       "      <td>70</td>\n",
       "      <td>6.17</td>\n",
       "      <td>75</td>\n",
       "    </tr>\n",
       "    <tr>\n",
       "      <th>3</th>\n",
       "      <td>Avarua</td>\n",
       "      <td>-21.2078</td>\n",
       "      <td>-159.7750</td>\n",
       "      <td>300.15</td>\n",
       "      <td>65</td>\n",
       "      <td>3.09</td>\n",
       "      <td>75</td>\n",
       "    </tr>\n",
       "    <tr>\n",
       "      <th>4</th>\n",
       "      <td>Mataura</td>\n",
       "      <td>-46.1927</td>\n",
       "      <td>168.8643</td>\n",
       "      <td>287.59</td>\n",
       "      <td>81</td>\n",
       "      <td>3.58</td>\n",
       "      <td>100</td>\n",
       "    </tr>\n",
       "    <tr>\n",
       "      <th>6</th>\n",
       "      <td>Vaini</td>\n",
       "      <td>-21.2000</td>\n",
       "      <td>-175.2000</td>\n",
       "      <td>298.15</td>\n",
       "      <td>73</td>\n",
       "      <td>5.14</td>\n",
       "      <td>75</td>\n",
       "    </tr>\n",
       "    <tr>\n",
       "      <th>...</th>\n",
       "      <td>...</td>\n",
       "      <td>...</td>\n",
       "      <td>...</td>\n",
       "      <td>...</td>\n",
       "      <td>...</td>\n",
       "      <td>...</td>\n",
       "      <td>...</td>\n",
       "    </tr>\n",
       "    <tr>\n",
       "      <th>542</th>\n",
       "      <td>Itarema</td>\n",
       "      <td>-2.9248</td>\n",
       "      <td>-39.9167</td>\n",
       "      <td>298.73</td>\n",
       "      <td>83</td>\n",
       "      <td>3.58</td>\n",
       "      <td>56</td>\n",
       "    </tr>\n",
       "    <tr>\n",
       "      <th>545</th>\n",
       "      <td>Humaitá</td>\n",
       "      <td>-7.5061</td>\n",
       "      <td>-63.0208</td>\n",
       "      <td>296.85</td>\n",
       "      <td>96</td>\n",
       "      <td>0.18</td>\n",
       "      <td>82</td>\n",
       "    </tr>\n",
       "    <tr>\n",
       "      <th>547</th>\n",
       "      <td>Mwense</td>\n",
       "      <td>-10.3845</td>\n",
       "      <td>28.6980</td>\n",
       "      <td>292.71</td>\n",
       "      <td>75</td>\n",
       "      <td>4.01</td>\n",
       "      <td>100</td>\n",
       "    </tr>\n",
       "    <tr>\n",
       "      <th>549</th>\n",
       "      <td>Fuerte Olimpo</td>\n",
       "      <td>-21.0415</td>\n",
       "      <td>-57.8738</td>\n",
       "      <td>302.48</td>\n",
       "      <td>42</td>\n",
       "      <td>2.15</td>\n",
       "      <td>67</td>\n",
       "    </tr>\n",
       "    <tr>\n",
       "      <th>554</th>\n",
       "      <td>Anori</td>\n",
       "      <td>-3.7728</td>\n",
       "      <td>-61.6442</td>\n",
       "      <td>296.30</td>\n",
       "      <td>97</td>\n",
       "      <td>0.70</td>\n",
       "      <td>99</td>\n",
       "    </tr>\n",
       "  </tbody>\n",
       "</table>\n",
       "<p>177 rows × 7 columns</p>\n",
       "</div>"
      ],
      "text/plain": [
       "              Name      Lat       Lon    Temp  Humidity  WindSpeed  Clouds\n",
       "0          Rikitea -23.1203 -134.9692  299.28        83       7.55      79\n",
       "1     Punta Arenas -53.1500  -70.9167  277.09        70       6.17      75\n",
       "3           Avarua -21.2078 -159.7750  300.15        65       3.09      75\n",
       "4          Mataura -46.1927  168.8643  287.59        81       3.58     100\n",
       "6            Vaini -21.2000 -175.2000  298.15        73       5.14      75\n",
       "..             ...      ...       ...     ...       ...        ...     ...\n",
       "542        Itarema  -2.9248  -39.9167  298.73        83       3.58      56\n",
       "545        Humaitá  -7.5061  -63.0208  296.85        96       0.18      82\n",
       "547         Mwense -10.3845   28.6980  292.71        75       4.01     100\n",
       "549  Fuerte Olimpo -21.0415  -57.8738  302.48        42       2.15      67\n",
       "554          Anori  -3.7728  -61.6442  296.30        97       0.70      99\n",
       "\n",
       "[177 rows x 7 columns]"
      ]
     },
     "execution_count": 47,
     "metadata": {},
     "output_type": "execute_result"
    }
   ],
   "source": [
    "#testing \n",
    "#city_weather[(city_weather[\"Lat\"]<0)]"
   ]
  },
  {
   "cell_type": "code",
   "execution_count": 50,
   "metadata": {},
   "outputs": [
    {
     "data": {
      "text/html": [
       "<div>\n",
       "<style scoped>\n",
       "    .dataframe tbody tr th:only-of-type {\n",
       "        vertical-align: middle;\n",
       "    }\n",
       "\n",
       "    .dataframe tbody tr th {\n",
       "        vertical-align: top;\n",
       "    }\n",
       "\n",
       "    .dataframe thead th {\n",
       "        text-align: right;\n",
       "    }\n",
       "</style>\n",
       "<table border=\"1\" class=\"dataframe\">\n",
       "  <thead>\n",
       "    <tr style=\"text-align: right;\">\n",
       "      <th></th>\n",
       "      <th>Name</th>\n",
       "      <th>Lat</th>\n",
       "      <th>Lon</th>\n",
       "      <th>Temp</th>\n",
       "      <th>Humidity</th>\n",
       "      <th>WindSpeed</th>\n",
       "      <th>Clouds</th>\n",
       "    </tr>\n",
       "  </thead>\n",
       "  <tbody>\n",
       "    <tr>\n",
       "      <th>2</th>\n",
       "      <td>Hilo</td>\n",
       "      <td>19.7297</td>\n",
       "      <td>-155.0900</td>\n",
       "      <td>297.53</td>\n",
       "      <td>57</td>\n",
       "      <td>4.63</td>\n",
       "      <td>75</td>\n",
       "    </tr>\n",
       "    <tr>\n",
       "      <th>5</th>\n",
       "      <td>Ponta do Sol</td>\n",
       "      <td>32.6667</td>\n",
       "      <td>-17.1000</td>\n",
       "      <td>287.38</td>\n",
       "      <td>67</td>\n",
       "      <td>4.63</td>\n",
       "      <td>40</td>\n",
       "    </tr>\n",
       "    <tr>\n",
       "      <th>11</th>\n",
       "      <td>Aklavik</td>\n",
       "      <td>68.2191</td>\n",
       "      <td>-135.0107</td>\n",
       "      <td>272.15</td>\n",
       "      <td>64</td>\n",
       "      <td>2.06</td>\n",
       "      <td>20</td>\n",
       "    </tr>\n",
       "    <tr>\n",
       "      <th>12</th>\n",
       "      <td>Progreso</td>\n",
       "      <td>21.2833</td>\n",
       "      <td>-89.6667</td>\n",
       "      <td>311.03</td>\n",
       "      <td>30</td>\n",
       "      <td>6.69</td>\n",
       "      <td>75</td>\n",
       "    </tr>\n",
       "    <tr>\n",
       "      <th>14</th>\n",
       "      <td>Jerusalem</td>\n",
       "      <td>31.7690</td>\n",
       "      <td>35.2163</td>\n",
       "      <td>295.93</td>\n",
       "      <td>28</td>\n",
       "      <td>0.89</td>\n",
       "      <td>5</td>\n",
       "    </tr>\n",
       "    <tr>\n",
       "      <th>...</th>\n",
       "      <td>...</td>\n",
       "      <td>...</td>\n",
       "      <td>...</td>\n",
       "      <td>...</td>\n",
       "      <td>...</td>\n",
       "      <td>...</td>\n",
       "      <td>...</td>\n",
       "    </tr>\n",
       "    <tr>\n",
       "      <th>548</th>\n",
       "      <td>Acapulco de Juárez</td>\n",
       "      <td>16.8634</td>\n",
       "      <td>-99.8901</td>\n",
       "      <td>302.15</td>\n",
       "      <td>65</td>\n",
       "      <td>4.12</td>\n",
       "      <td>40</td>\n",
       "    </tr>\n",
       "    <tr>\n",
       "      <th>550</th>\n",
       "      <td>Kostomuksha</td>\n",
       "      <td>64.5710</td>\n",
       "      <td>30.5767</td>\n",
       "      <td>271.59</td>\n",
       "      <td>84</td>\n",
       "      <td>4.18</td>\n",
       "      <td>100</td>\n",
       "    </tr>\n",
       "    <tr>\n",
       "      <th>551</th>\n",
       "      <td>Arlit</td>\n",
       "      <td>18.7369</td>\n",
       "      <td>7.3853</td>\n",
       "      <td>303.84</td>\n",
       "      <td>5</td>\n",
       "      <td>3.75</td>\n",
       "      <td>0</td>\n",
       "    </tr>\n",
       "    <tr>\n",
       "      <th>552</th>\n",
       "      <td>Muisne</td>\n",
       "      <td>0.6000</td>\n",
       "      <td>-80.0333</td>\n",
       "      <td>299.15</td>\n",
       "      <td>89</td>\n",
       "      <td>1.54</td>\n",
       "      <td>75</td>\n",
       "    </tr>\n",
       "    <tr>\n",
       "      <th>553</th>\n",
       "      <td>Zharkent</td>\n",
       "      <td>44.1628</td>\n",
       "      <td>80.0000</td>\n",
       "      <td>287.60</td>\n",
       "      <td>39</td>\n",
       "      <td>2.36</td>\n",
       "      <td>74</td>\n",
       "    </tr>\n",
       "  </tbody>\n",
       "</table>\n",
       "<p>378 rows × 7 columns</p>\n",
       "</div>"
      ],
      "text/plain": [
       "                   Name      Lat       Lon    Temp  Humidity  WindSpeed  \\\n",
       "2                  Hilo  19.7297 -155.0900  297.53        57       4.63   \n",
       "5          Ponta do Sol  32.6667  -17.1000  287.38        67       4.63   \n",
       "11              Aklavik  68.2191 -135.0107  272.15        64       2.06   \n",
       "12             Progreso  21.2833  -89.6667  311.03        30       6.69   \n",
       "14            Jerusalem  31.7690   35.2163  295.93        28       0.89   \n",
       "..                  ...      ...       ...     ...       ...        ...   \n",
       "548  Acapulco de Juárez  16.8634  -99.8901  302.15        65       4.12   \n",
       "550         Kostomuksha  64.5710   30.5767  271.59        84       4.18   \n",
       "551               Arlit  18.7369    7.3853  303.84         5       3.75   \n",
       "552              Muisne   0.6000  -80.0333  299.15        89       1.54   \n",
       "553            Zharkent  44.1628   80.0000  287.60        39       2.36   \n",
       "\n",
       "     Clouds  \n",
       "2        75  \n",
       "5        40  \n",
       "11       20  \n",
       "12       75  \n",
       "14        5  \n",
       "..      ...  \n",
       "548      40  \n",
       "550     100  \n",
       "551       0  \n",
       "552      75  \n",
       "553      74  \n",
       "\n",
       "[378 rows x 7 columns]"
      ]
     },
     "execution_count": 50,
     "metadata": {},
     "output_type": "execute_result"
    }
   ],
   "source": [
    "#Northern Hemisphere DataFrame\n",
    "\n",
    "northern = city_weather[(city_weather[\"Lat\"]>0)]\n",
    "northern"
   ]
  },
  {
   "cell_type": "code",
   "execution_count": 51,
   "metadata": {},
   "outputs": [
    {
     "data": {
      "text/html": [
       "<div>\n",
       "<style scoped>\n",
       "    .dataframe tbody tr th:only-of-type {\n",
       "        vertical-align: middle;\n",
       "    }\n",
       "\n",
       "    .dataframe tbody tr th {\n",
       "        vertical-align: top;\n",
       "    }\n",
       "\n",
       "    .dataframe thead th {\n",
       "        text-align: right;\n",
       "    }\n",
       "</style>\n",
       "<table border=\"1\" class=\"dataframe\">\n",
       "  <thead>\n",
       "    <tr style=\"text-align: right;\">\n",
       "      <th></th>\n",
       "      <th>Name</th>\n",
       "      <th>Lat</th>\n",
       "      <th>Lon</th>\n",
       "      <th>Temp</th>\n",
       "      <th>Humidity</th>\n",
       "      <th>WindSpeed</th>\n",
       "      <th>Clouds</th>\n",
       "    </tr>\n",
       "  </thead>\n",
       "  <tbody>\n",
       "    <tr>\n",
       "      <th>0</th>\n",
       "      <td>Rikitea</td>\n",
       "      <td>-23.1203</td>\n",
       "      <td>-134.9692</td>\n",
       "      <td>299.28</td>\n",
       "      <td>83</td>\n",
       "      <td>7.55</td>\n",
       "      <td>79</td>\n",
       "    </tr>\n",
       "    <tr>\n",
       "      <th>1</th>\n",
       "      <td>Punta Arenas</td>\n",
       "      <td>-53.1500</td>\n",
       "      <td>-70.9167</td>\n",
       "      <td>277.09</td>\n",
       "      <td>70</td>\n",
       "      <td>6.17</td>\n",
       "      <td>75</td>\n",
       "    </tr>\n",
       "    <tr>\n",
       "      <th>3</th>\n",
       "      <td>Avarua</td>\n",
       "      <td>-21.2078</td>\n",
       "      <td>-159.7750</td>\n",
       "      <td>300.15</td>\n",
       "      <td>65</td>\n",
       "      <td>3.09</td>\n",
       "      <td>75</td>\n",
       "    </tr>\n",
       "    <tr>\n",
       "      <th>4</th>\n",
       "      <td>Mataura</td>\n",
       "      <td>-46.1927</td>\n",
       "      <td>168.8643</td>\n",
       "      <td>287.59</td>\n",
       "      <td>81</td>\n",
       "      <td>3.58</td>\n",
       "      <td>100</td>\n",
       "    </tr>\n",
       "    <tr>\n",
       "      <th>6</th>\n",
       "      <td>Vaini</td>\n",
       "      <td>-21.2000</td>\n",
       "      <td>-175.2000</td>\n",
       "      <td>298.15</td>\n",
       "      <td>73</td>\n",
       "      <td>5.14</td>\n",
       "      <td>75</td>\n",
       "    </tr>\n",
       "    <tr>\n",
       "      <th>...</th>\n",
       "      <td>...</td>\n",
       "      <td>...</td>\n",
       "      <td>...</td>\n",
       "      <td>...</td>\n",
       "      <td>...</td>\n",
       "      <td>...</td>\n",
       "      <td>...</td>\n",
       "    </tr>\n",
       "    <tr>\n",
       "      <th>542</th>\n",
       "      <td>Itarema</td>\n",
       "      <td>-2.9248</td>\n",
       "      <td>-39.9167</td>\n",
       "      <td>298.73</td>\n",
       "      <td>83</td>\n",
       "      <td>3.58</td>\n",
       "      <td>56</td>\n",
       "    </tr>\n",
       "    <tr>\n",
       "      <th>545</th>\n",
       "      <td>Humaitá</td>\n",
       "      <td>-7.5061</td>\n",
       "      <td>-63.0208</td>\n",
       "      <td>296.85</td>\n",
       "      <td>96</td>\n",
       "      <td>0.18</td>\n",
       "      <td>82</td>\n",
       "    </tr>\n",
       "    <tr>\n",
       "      <th>547</th>\n",
       "      <td>Mwense</td>\n",
       "      <td>-10.3845</td>\n",
       "      <td>28.6980</td>\n",
       "      <td>292.71</td>\n",
       "      <td>75</td>\n",
       "      <td>4.01</td>\n",
       "      <td>100</td>\n",
       "    </tr>\n",
       "    <tr>\n",
       "      <th>549</th>\n",
       "      <td>Fuerte Olimpo</td>\n",
       "      <td>-21.0415</td>\n",
       "      <td>-57.8738</td>\n",
       "      <td>302.48</td>\n",
       "      <td>42</td>\n",
       "      <td>2.15</td>\n",
       "      <td>67</td>\n",
       "    </tr>\n",
       "    <tr>\n",
       "      <th>554</th>\n",
       "      <td>Anori</td>\n",
       "      <td>-3.7728</td>\n",
       "      <td>-61.6442</td>\n",
       "      <td>296.30</td>\n",
       "      <td>97</td>\n",
       "      <td>0.70</td>\n",
       "      <td>99</td>\n",
       "    </tr>\n",
       "  </tbody>\n",
       "</table>\n",
       "<p>177 rows × 7 columns</p>\n",
       "</div>"
      ],
      "text/plain": [
       "              Name      Lat       Lon    Temp  Humidity  WindSpeed  Clouds\n",
       "0          Rikitea -23.1203 -134.9692  299.28        83       7.55      79\n",
       "1     Punta Arenas -53.1500  -70.9167  277.09        70       6.17      75\n",
       "3           Avarua -21.2078 -159.7750  300.15        65       3.09      75\n",
       "4          Mataura -46.1927  168.8643  287.59        81       3.58     100\n",
       "6            Vaini -21.2000 -175.2000  298.15        73       5.14      75\n",
       "..             ...      ...       ...     ...       ...        ...     ...\n",
       "542        Itarema  -2.9248  -39.9167  298.73        83       3.58      56\n",
       "545        Humaitá  -7.5061  -63.0208  296.85        96       0.18      82\n",
       "547         Mwense -10.3845   28.6980  292.71        75       4.01     100\n",
       "549  Fuerte Olimpo -21.0415  -57.8738  302.48        42       2.15      67\n",
       "554          Anori  -3.7728  -61.6442  296.30        97       0.70      99\n",
       "\n",
       "[177 rows x 7 columns]"
      ]
     },
     "execution_count": 51,
     "metadata": {},
     "output_type": "execute_result"
    }
   ],
   "source": [
    "#Southern Hemisphere DataFrame\n",
    "\n",
    "southern = city_weather[(city_weather[\"Lat\"]<0)]\n",
    "southern"
   ]
  },
  {
   "cell_type": "markdown",
   "metadata": {},
   "source": [
    "####  Northern Hemisphere - Max Temp vs. Latitude Linear Regression"
   ]
  },
  {
   "cell_type": "code",
   "execution_count": 56,
   "metadata": {},
   "outputs": [
    {
     "data": {
      "image/png": "[encoded data removed]",
      "text/plain": [
       "<Figure size 432x288 with 1 Axes>"
      ]
     },
     "metadata": {
      "needs_background": "light"
     },
     "output_type": "display_data"
    }
   ],
   "source": [
    "x_values = northern['Lat']\n",
    "y_values = northern['Temp']\n",
    "(slope, intercept, rvalue, pvalue, stderr) = linregress(x_values, y_values)\n",
    "regress_values = x_values * slope + intercept\n",
    "line_eq = \"y = \" + str(round(slope,2)) + \"x + \" + str(round(intercept,2))\n",
    "plt.scatter(x_values,y_values)\n",
    "plt.plot(x_values,regress_values,\"r-\")\n",
    "plt.annotate(line_eq,(20,30),fontsize=15,color=\"red\")\n",
    "plt.xlabel('Latitude')\n",
    "plt.ylabel('Temperature')\n",
    "plt.show()"
   ]
  },
  {
   "cell_type": "markdown",
   "metadata": {},
   "source": [
    "####  Southern Hemisphere - Max Temp vs. Latitude Linear Regression"
   ]
  },
  {
   "cell_type": "code",
   "execution_count": 57,
   "metadata": {},
   "outputs": [
    {
     "data": {
      "image/png": "[encoded data removed]",
      "text/plain": [
       "<Figure size 432x288 with 1 Axes>"
      ]
     },
     "metadata": {
      "needs_background": "light"
     },
     "output_type": "display_data"
    }
   ],
   "source": [
    "x_values = southern['Lat']\n",
    "y_values = southern['Temp']\n",
    "(slope, intercept, rvalue, pvalue, stderr) = linregress(x_values, y_values)\n",
    "regress_values = x_values * slope + intercept\n",
    "line_eq = \"y = \" + str(round(slope,2)) + \"x + \" + str(round(intercept,2))\n",
    "plt.scatter(x_values,y_values)\n",
    "plt.plot(x_values,regress_values,\"r-\")\n",
    "plt.annotate(line_eq,(20,30),fontsize=15,color=\"red\")\n",
    "plt.xlabel('Latitude')\n",
    "plt.ylabel('Temperature')\n",
    "plt.show()"
   ]
  },
  {
   "cell_type": "markdown",
   "metadata": {},
   "source": [
    "####  Northern Hemisphere - Humidity (%) vs. Latitude Linear Regression"
   ]
  },
  {
   "cell_type": "code",
   "execution_count": 58,
   "metadata": {},
   "outputs": [
    {
     "data": {
      "image/png": "[encoded data removed]",
      "text/plain": [
       "<Figure size 432x288 with 1 Axes>"
      ]
     },
     "metadata": {
      "needs_background": "light"
     },
     "output_type": "display_data"
    }
   ],
   "source": [
    "x_values = northern['Lat']\n",
    "y_values = northern['Humidity']\n",
    "(slope, intercept, rvalue, pvalue, stderr) = linregress(x_values, y_values)\n",
    "regress_values = x_values * slope + intercept\n",
    "line_eq = \"y = \" + str(round(slope,2)) + \"x + \" + str(round(intercept,2))\n",
    "plt.scatter(x_values,y_values)\n",
    "plt.plot(x_values,regress_values,\"r-\")\n",
    "plt.annotate(line_eq,(20,30),fontsize=15,color=\"red\")\n",
    "plt.xlabel('Latitude')\n",
    "plt.ylabel('Humidity')\n",
    "plt.show()"
   ]
  },
  {
   "cell_type": "markdown",
   "metadata": {},
   "source": [
    "####  Southern Hemisphere - Humidity (%) vs. Latitude Linear Regression"
   ]
  },
  {
   "cell_type": "code",
   "execution_count": 59,
   "metadata": {},
   "outputs": [
    {
     "data": {
      "image/png": "[encoded data removed]",
      "text/plain": [
       "<Figure size 432x288 with 1 Axes>"
      ]
     },
     "metadata": {
      "needs_background": "light"
     },
     "output_type": "display_data"
    }
   ],
   "source": [
    "x_values = southern['Lat']\n",
    "y_values = southern['Humidity']\n",
    "(slope, intercept, rvalue, pvalue, stderr) = linregress(x_values, y_values)\n",
    "regress_values = x_values * slope + intercept\n",
    "line_eq = \"y = \" + str(round(slope,2)) + \"x + \" + str(round(intercept,2))\n",
    "plt.scatter(x_values,y_values)\n",
    "plt.plot(x_values,regress_values,\"r-\")\n",
    "plt.annotate(line_eq,(20,30),fontsize=15,color=\"red\")\n",
    "plt.xlabel('Latitude')\n",
    "plt.ylabel('Humidity')\n",
    "plt.show()"
   ]
  },
  {
   "cell_type": "markdown",
   "metadata": {},
   "source": [
    "####  Northern Hemisphere - Cloudiness (%) vs. Latitude Linear Regression"
   ]
  },
  {
   "cell_type": "code",
   "execution_count": 60,
   "metadata": {},
   "outputs": [
    {
     "data": {
      "image/png": "[encoded data removed]",
      "text/plain": [
       "<Figure size 432x288 with 1 Axes>"
      ]
     },
     "metadata": {
      "needs_background": "light"
     },
     "output_type": "display_data"
    }
   ],
   "source": [
    "x_values = northern['Lat']\n",
    "y_values = northern['Clouds']\n",
    "(slope, intercept, rvalue, pvalue, stderr) = linregress(x_values, y_values)\n",
    "regress_values = x_values * slope + intercept\n",
    "line_eq = \"y = \" + str(round(slope,2)) + \"x + \" + str(round(intercept,2))\n",
    "plt.scatter(x_values,y_values)\n",
    "plt.plot(x_values,regress_values,\"r-\")\n",
    "plt.annotate(line_eq,(20,30),fontsize=15,color=\"red\")\n",
    "plt.xlabel('Latitude')\n",
    "plt.ylabel('Cloudiness')\n",
    "plt.show()"
   ]
  },
  {
   "cell_type": "markdown",
   "metadata": {},
   "source": [
    "####  Southern Hemisphere - Cloudiness (%) vs. Latitude Linear Regression"
   ]
  },
  {
   "cell_type": "code",
   "execution_count": 61,
   "metadata": {},
   "outputs": [
    {
     "data": {
      "image/png": "[encoded data removed]",
      "text/plain": [
       "<Figure size 432x288 with 1 Axes>"
      ]
     },
     "metadata": {
      "needs_background": "light"
     },
     "output_type": "display_data"
    }
   ],
   "source": [
    "x_values = southern['Lat']\n",
    "y_values = southern['Clouds']\n",
    "(slope, intercept, rvalue, pvalue, stderr) = linregress(x_values, y_values)\n",
    "regress_values = x_values * slope + intercept\n",
    "line_eq = \"y = \" + str(round(slope,2)) + \"x + \" + str(round(intercept,2))\n",
    "plt.scatter(x_values,y_values)\n",
    "plt.plot(x_values,regress_values,\"r-\")\n",
    "plt.annotate(line_eq,(20,30),fontsize=15,color=\"red\")\n",
    "plt.xlabel('Latitude')\n",
    "plt.ylabel('Cloudiness')\n",
    "plt.show()"
   ]
  },
  {
   "cell_type": "markdown",
   "metadata": {},
   "source": [
    "####  Northern Hemisphere - Wind Speed (mph) vs. Latitude Linear Regression"
   ]
  },
  {
   "cell_type": "code",
   "execution_count": 62,
   "metadata": {},
   "outputs": [
    {
     "data": {
      "image/png": "[encoded data removed]",
      "text/plain": [
       "<Figure size 432x288 with 1 Axes>"
      ]
     },
     "metadata": {
      "needs_background": "light"
     },
     "output_type": "display_data"
    }
   ],
   "source": [
    "x_values = northern['Lat']\n",
    "y_values = northern['WindSpeed']\n",
    "(slope, intercept, rvalue, pvalue, stderr) = linregress(x_values, y_values)\n",
    "regress_values = x_values * slope + intercept\n",
    "line_eq = \"y = \" + str(round(slope,2)) + \"x + \" + str(round(intercept,2))\n",
    "plt.scatter(x_values,y_values)\n",
    "plt.plot(x_values,regress_values,\"r-\")\n",
    "plt.annotate(line_eq,(20,30),fontsize=15,color=\"red\")\n",
    "plt.xlabel('Latitude')\n",
    "plt.ylabel('Wind Speed')\n",
    "plt.show()"
   ]
  },
  {
   "cell_type": "markdown",
   "metadata": {},
   "source": [
    "####  Southern Hemisphere - Wind Speed (mph) vs. Latitude Linear Regression"
   ]
  },
  {
   "cell_type": "code",
   "execution_count": 63,
   "metadata": {},
   "outputs": [
    {
     "data": {
      "image/png": "[encoded data removed]",
      "text/plain": [
       "<Figure size 432x288 with 1 Axes>"
      ]
     },
     "metadata": {
      "needs_background": "light"
     },
     "output_type": "display_data"
    }
   ],
   "source": [
    "x_values = southern['Lat']\n",
    "y_values = southern['WindSpeed']\n",
    "(slope, intercept, rvalue, pvalue, stderr) = linregress(x_values, y_values)\n",
    "regress_values = x_values * slope + intercept\n",
    "line_eq = \"y = \" + str(round(slope,2)) + \"x + \" + str(round(intercept,2))\n",
    "plt.scatter(x_values,y_values)\n",
    "plt.plot(x_values,regress_values,\"r-\")\n",
    "plt.annotate(line_eq,(20,30),fontsize=15,color=\"red\")\n",
    "plt.xlabel('Latitude')\n",
    "plt.ylabel('Wind Speed')\n",
    "plt.show()"
   ]
  },
  {
   "cell_type": "code",
   "execution_count": null,
   "metadata": {},
   "outputs": [],
   "source": []
  }
 ],
 "metadata": {
  "anaconda-cloud": {},
  "kernel_info": {
   "name": "python3"
  },
  "kernelspec": {
   "display_name": "PythonData",
   "language": "python",
   "name": "pythondata"
  },
  "language_info": {
   "codemirror_mode": {
    "name": "ipython",
    "version": 3
   },
   "file_extension": ".py",
   "mimetype": "text/x-python",
   "name": "python",
   "nbconvert_exporter": "python",
   "pygments_lexer": "ipython3",
   "version": "3.8.5"
  },
  "latex_envs": {
   "LaTeX_envs_menu_present": true,
   "autoclose": false,
   "autocomplete": true,
   "bibliofile": "biblio.bib",
   "cite_by": "apalike",
   "current_citInitial": 1,
   "eqLabelWithNumbers": true,
   "eqNumInitial": 1,
   "hotkeys": {
    "equation": "Ctrl-E",
    "itemize": "Ctrl-I"
   },
   "labels_anchors": false,
   "latex_user_defs": false,
   "report_style_numbering": false,
   "user_envs_cfg": false
  },
  "nteract": {
   "version": "0.12.3"
  }
 },
 "nbformat": 4,
 "nbformat_minor": 2
}
